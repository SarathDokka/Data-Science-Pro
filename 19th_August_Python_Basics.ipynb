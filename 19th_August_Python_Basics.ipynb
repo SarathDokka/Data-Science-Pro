{
 "cells": [
  {
   "cell_type": "markdown",
   "id": "27681484",
   "metadata": {},
   "source": [
    "1. Declare two variables, `x` and `y`, and assign them integer values. Swap the values of these variables without using any temporary variable."
   ]
  },
  {
   "cell_type": "code",
   "execution_count": 7,
   "id": "712fd8a1",
   "metadata": {},
   "outputs": [],
   "source": [
    "x=10"
   ]
  },
  {
   "cell_type": "code",
   "execution_count": 10,
   "id": "49f74be5",
   "metadata": {},
   "outputs": [],
   "source": [
    "y=20"
   ]
  },
  {
   "cell_type": "code",
   "execution_count": 14,
   "id": "db05504e",
   "metadata": {},
   "outputs": [],
   "source": [
    "x=y"
   ]
  },
  {
   "cell_type": "code",
   "execution_count": 21,
   "id": "c8e4a0d4",
   "metadata": {},
   "outputs": [],
   "source": [
    "y=x-10"
   ]
  },
  {
   "cell_type": "code",
   "execution_count": 23,
   "id": "5602e004",
   "metadata": {},
   "outputs": [
    {
     "name": "stdout",
     "output_type": "stream",
     "text": [
      "20\n"
     ]
    }
   ],
   "source": [
    "print(x)"
   ]
  },
  {
   "cell_type": "code",
   "execution_count": 25,
   "id": "aa87fb37",
   "metadata": {},
   "outputs": [
    {
     "name": "stdout",
     "output_type": "stream",
     "text": [
      "10\n"
     ]
    }
   ],
   "source": [
    "print(y)"
   ]
  },
  {
   "cell_type": "markdown",
   "id": "3f9faebd",
   "metadata": {},
   "source": [
    "2. Create a program that calculates the area of a rectangle. Take the length and width as inputs from the user and store them in variables. Calculate and display the area."
   ]
  },
  {
   "cell_type": "code",
   "execution_count": 37,
   "id": "9bb580c0",
   "metadata": {},
   "outputs": [],
   "source": [
    "l=3   #l is length"
   ]
  },
  {
   "cell_type": "code",
   "execution_count": 30,
   "id": "faf75ff8",
   "metadata": {},
   "outputs": [],
   "source": [
    "W=8  #W is width"
   ]
  },
  {
   "cell_type": "code",
   "execution_count": 34,
   "id": "88f13854",
   "metadata": {},
   "outputs": [],
   "source": [
    "a=l*W #a is area"
   ]
  },
  {
   "cell_type": "code",
   "execution_count": 38,
   "id": "9dd4e8f4",
   "metadata": {},
   "outputs": [
    {
     "name": "stdout",
     "output_type": "stream",
     "text": [
      "24\n"
     ]
    }
   ],
   "source": [
    "print(a)"
   ]
  },
  {
   "cell_type": "markdown",
   "id": "27803e0d",
   "metadata": {},
   "source": [
    "3. Write a Python program that converts temperatures from Celsius to Fahrenheit. Take the temperature in Celsius as input, store it in a variable, convert it to Fahrenheit, and display the result."
   ]
  },
  {
   "cell_type": "code",
   "execution_count": 59,
   "id": "27d1ac20",
   "metadata": {},
   "outputs": [],
   "source": [
    "celsius =30"
   ]
  },
  {
   "cell_type": "code",
   "execution_count": 61,
   "id": "c449af06",
   "metadata": {},
   "outputs": [],
   "source": [
    "Fahrenheit = (1.8 * celsius) + 32."
   ]
  },
  {
   "cell_type": "code",
   "execution_count": 63,
   "id": "2c5eff87",
   "metadata": {},
   "outputs": [
    {
     "name": "stdout",
     "output_type": "stream",
     "text": [
      "The Temparature in Fahrenheit 86.0\n"
     ]
    }
   ],
   "source": [
    "print(\"The Temparature in Fahrenheit\", Fahrenheit)"
   ]
  },
  {
   "cell_type": "markdown",
   "id": "52f8cb23",
   "metadata": {},
   "source": [
    "4. Write a Python program that takes a string as input and prints the length of the string."
   ]
  },
  {
   "cell_type": "code",
   "execution_count": 65,
   "id": "0ad0e46f",
   "metadata": {},
   "outputs": [],
   "source": [
    "a = 'pwskills'"
   ]
  },
  {
   "cell_type": "code",
   "execution_count": 69,
   "id": "b040487e",
   "metadata": {},
   "outputs": [
    {
     "data": {
      "text/plain": [
       "8"
      ]
     },
     "execution_count": 69,
     "metadata": {},
     "output_type": "execute_result"
    }
   ],
   "source": [
    "len(a) #where len is defined as length"
   ]
  },
  {
   "cell_type": "markdown",
   "id": "12c18819",
   "metadata": {},
   "source": [
    "5. Create a program that takes a sentence from the user and counts the number of vowels (a, e, i, o, u) in the string."
   ]
  },
  {
   "cell_type": "markdown",
   "id": "750ee659",
   "metadata": {},
   "source": [
    "No idea on how to create this program"
   ]
  },
  {
   "cell_type": "markdown",
   "id": "d3fe3cd3",
   "metadata": {},
   "source": [
    "6. Given a string, reverse the order of characters using string slicing and print the reversed string."
   ]
  },
  {
   "cell_type": "code",
   "execution_count": 73,
   "id": "fc68640d",
   "metadata": {},
   "outputs": [],
   "source": [
    "a= \"Data Science Pro\""
   ]
  },
  {
   "cell_type": "code",
   "execution_count": 83,
   "id": "73527b80",
   "metadata": {},
   "outputs": [
    {
     "data": {
      "text/plain": [
       "'orP ecneicS ataD'"
      ]
     },
     "execution_count": 83,
     "metadata": {},
     "output_type": "execute_result"
    }
   ],
   "source": [
    "a[::-1]"
   ]
  },
  {
   "cell_type": "code",
   "execution_count": 86,
   "id": "5c919ce4",
   "metadata": {},
   "outputs": [
    {
     "name": "stdout",
     "output_type": "stream",
     "text": [
      "orP ecneicS ataD\n"
     ]
    }
   ],
   "source": [
    "print(a[::-1])"
   ]
  },
  {
   "cell_type": "markdown",
   "id": "9409446c",
   "metadata": {},
   "source": [
    "7. Write a program that takes a string as input and checks if it is a palindrome"
   ]
  },
  {
   "cell_type": "markdown",
   "id": "8d64971b",
   "metadata": {},
   "source": [
    "No idea on how to create this program"
   ]
  },
  {
   "cell_type": "markdown",
   "id": "4df08924",
   "metadata": {},
   "source": [
    "8. Create a program that takes a string as input and removes all the spaces from it. Print the modified string without spaces."
   ]
  },
  {
   "cell_type": "code",
   "execution_count": null,
   "id": "0db164f0",
   "metadata": {},
   "outputs": [],
   "source": [
    "input_string=input(\"PythonProgramming:\")"
   ]
  },
  {
   "cell_type": "code",
   "execution_count": 12,
   "id": "4276adf6",
   "metadata": {},
   "outputs": [],
   "source": [
    "a='python'"
   ]
  },
  {
   "cell_type": "code",
   "execution_count": 13,
   "id": "67152c4f",
   "metadata": {},
   "outputs": [],
   "source": [
    "b='programming'"
   ]
  },
  {
   "cell_type": "code",
   "execution_count": 14,
   "id": "e47bb626",
   "metadata": {},
   "outputs": [],
   "source": [
    "result=a +\"\"+ b"
   ]
  },
  {
   "cell_type": "code",
   "execution_count": 15,
   "id": "1c968c5f",
   "metadata": {},
   "outputs": [
    {
     "name": "stdout",
     "output_type": "stream",
     "text": [
      "pythonprogramming\n"
     ]
    }
   ],
   "source": [
    "print(result)"
   ]
  }
 ],
 "metadata": {
  "kernelspec": {
   "display_name": "Python 3 (ipykernel)",
   "language": "python",
   "name": "python3"
  },
  "language_info": {
   "codemirror_mode": {
    "name": "ipython",
    "version": 3
   },
   "file_extension": ".py",
   "mimetype": "text/x-python",
   "name": "python",
   "nbconvert_exporter": "python",
   "pygments_lexer": "ipython3",
   "version": "3.11.5"
  }
 },
 "nbformat": 4,
 "nbformat_minor": 5
}
